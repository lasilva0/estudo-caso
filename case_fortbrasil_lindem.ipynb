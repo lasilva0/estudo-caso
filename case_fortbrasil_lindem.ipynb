{
  "nbformat": 4,
  "nbformat_minor": 0,
  "metadata": {
    "colab": {
      "name": "case_fortbrasil_lindem.ipynb",
      "provenance": [],
      "collapsed_sections": [],
      "authorship_tag": "ABX9TyP7bax8FK+2tejhDSwXzCKy",
      "include_colab_link": true
    },
    "kernelspec": {
      "name": "ir",
      "display_name": "R"
    },
    "language_info": {
      "name": "R"
    }
  },
  "cells": [
    {
      "cell_type": "markdown",
      "metadata": {
        "id": "view-in-github",
        "colab_type": "text"
      },
      "source": [
        "<a href=\"https://colab.research.google.com/github/lasilva0/case-fortbrasil/blob/main/case_fortbrasil_lindem.ipynb\" target=\"_parent\"><img src=\"https://colab.research.google.com/assets/colab-badge.svg\" alt=\"Open In Colab\"/></a>"
      ]
    },
    {
      "cell_type": "code",
      "metadata": {
        "id": "Py2BrdSxYMLA"
      },
      "source": [
        "# Crregando os pacotes \n",
        "library(pacman)\n",
        "p_load(tidyverse,lubridate, janitor, openxlsx, dplyr, ggplot2)"
      ],
      "execution_count": null,
      "outputs": []
    },
    {
      "cell_type": "code",
      "metadata": {
        "id": "r1THcyHcThsu"
      },
      "source": [
        "# Vamos carregar nossos bancos para a análise e resolução dos problemas\n",
        "base  <- read.delim(file = \"/content/dados fort brasil/Questão 1 - Base.txt\")\n",
        "base  <- as_tibble(base) \n",
        "\n",
        "base1 <- read.delim(file = \"/content/dados fort brasil/Questão 2 - Base 1.txt\")\n",
        "base1 <- as_tibble(base1)\n",
        "\n",
        "base2 <- read.delim(file = \"/content/dados fort brasil/Questão 2 - Base 2.txt\")\n",
        "base2 <- as_tibble(base2)\n",
        "\n",
        "base3 <- read.delim(file = \"/content/dados fort brasil/Questão 2 - Base 3.txt\")\n",
        "base3 <- as_tibble(base3)\n",
        "\n",
        "base4 <- read.delim(file = \"/content/dados fort brasil/Questão 2 - Base 4.txt\")\n",
        "base4 <- as_tibble(base3)\n",
        "\n",
        "base5 <- read.delim(file = \"/content/dados fort brasil/Questão 2 - Base 5.txt\")\n",
        "base5 <- as_tibble(base5)"
      ],
      "execution_count": 6,
      "outputs": []
    },
    {
      "cell_type": "markdown",
      "metadata": {
        "id": "HY2ZlgCIcPil"
      },
      "source": [
        "## Problema 1: \n",
        "O negócio da Fortbrasil consiste na oferta de crédito rápido e consciente para parceiros e clientes de classes emergentes, sendo nosso principal produto o cartão de crédito. Para a primeira questão, disponibilizamos algumas variáveis relacionadas à fatura dos clientes:\n",
        "\n",
        "* **ID_CONTA**: Identificador da conta;\n",
        "* **DT_VENCIMENTO**: Data vencimento da fatura;\n",
        "* **DS_ROLAGEM**: Indicador que define se o cliente pagou a fatura do Mês anterior ou não. Se o valor for **FX0** quer dizer que o cliente pagou a fatura do mês anterior e se **FX1** quer dizer que o cliente não pagou a fatura do mês anterior;\n",
        "* **VL_FATURA**: Valor da Fatura atual.\n",
        "\n",
        "##### 1.1 - Baseado nessas informações, responda: Qual o percentual de faturas emitidas por mês no qual os clientes não pagaram a fatura anterior ?"
      ]
    },
    {
      "cell_type": "markdown",
      "metadata": {
        "id": "ceR1FhMRc4Yh"
      },
      "source": [
        "Antes de prosseguir com a resolução desta questão, devemos proesseguir com a limpeza e transformação dos dados:"
      ]
    },
    {
      "cell_type": "code",
      "metadata": {
        "colab": {
          "base_uri": "https://localhost:8080/"
        },
        "id": "XS0Mt4nr5Cvu",
        "outputId": "f964a125-f903-4bbb-d719-257c306ecb15"
      },
      "source": [
        "glimpse(base)"
      ],
      "execution_count": 7,
      "outputs": [
        {
          "output_type": "stream",
          "text": [
            "Rows: 2,728,249\n",
            "Columns: 4\n",
            "$ ID_CONTA      \u001b[3m\u001b[90m<int>\u001b[39m\u001b[23m 402467, 403001, 403499, 403670, 404183, 1307735, 1307790…\n",
            "$ DT_VENCIMENTO \u001b[3m\u001b[90m<chr>\u001b[39m\u001b[23m \"2019-01-01\", \"2019-01-01\", \"2019-01-01\", \"2019-01-01\", …\n",
            "$ DS_ROLAGEM    \u001b[3m\u001b[90m<chr>\u001b[39m\u001b[23m \"FX0\", \"FX1\", \"FX0\", \"FX0\", \"FX1\", \"FX0\", \"FX0\", \"FX0\", …\n",
            "$ VL_FATURA     \u001b[3m\u001b[90m<dbl>\u001b[39m\u001b[23m 210.00, 1097.18, 1209.88, 667.40, 1239.52, 785.69, 266.0…\n"
          ],
          "name": "stdout"
        }
      ]
    },
    {
      "cell_type": "markdown",
      "metadata": {
        "id": "2FegRgpW5KI0"
      },
      "source": [
        "Percebemos que nossos dados possuem: \n",
        "* 2.728.249 linhas\n",
        "* Temos duas variáveis do tipo caractere (DT_VENCIMENTO e DS_ROLAGEM) \n",
        "* Uma variável do tipo inteiro (ID_CONTA) \n",
        "* E uma variável do tipo double (VL_FATURA)\n",
        "\n",
        "Desta forma é interessante que transformemos a variável DS_ROLAGEM para o tipo fator, para melhor agruparmos nas consultas e transformar a variável DT_VENCIMENTO para o tipo Date, que é o formato mais apropriado para data:    "
      ]
    },
    {
      "cell_type": "code",
      "metadata": {
        "id": "tKhpmdPt6KgC"
      },
      "source": [
        "base$DT_VENCIMENTO <- as_date(base$DT_VENCIMENTO)\n",
        "base$DS_ROLAGEM <- as.factor(base$DS_ROLAGEM)"
      ],
      "execution_count": 8,
      "outputs": []
    },
    {
      "cell_type": "code",
      "metadata": {
        "colab": {
          "base_uri": "https://localhost:8080/",
          "height": 123
        },
        "id": "uvXdjIbe6PK6",
        "outputId": "1c6e085e-ad4e-483b-d6fe-5925044061d0"
      },
      "source": [
        "## Iremos ferificar se existe no nosso banco de dados algumas informações \n",
        "## faltantes para que possamos tratá-las e retirá-las (caso possível): \n",
        "\n",
        "table(is.na(base))\n",
        "prop.table(table(is.na(base))) * 100  # calcula proporções"
      ],
      "execution_count": 9,
      "outputs": [
        {
          "output_type": "display_data",
          "data": {
            "text/plain": [
              "\n",
              "   FALSE \n",
              "10912996 "
            ]
          },
          "metadata": {
            "tags": []
          }
        },
        {
          "output_type": "display_data",
          "data": {
            "text/plain": [
              "\n",
              "FALSE \n",
              "  100 "
            ]
          },
          "metadata": {
            "tags": []
          }
        }
      ]
    },
    {
      "cell_type": "markdown",
      "metadata": {
        "id": "E360MjKf6mc_"
      },
      "source": [
        "Percebemos que nossos dados não possuem valores faltantes e assim prosseguimos com a análise."
      ]
    },
    {
      "cell_type": "markdown",
      "metadata": {
        "id": "qAn1tpuofTwi"
      },
      "source": [
        "Agora vamos ao item 1.1: "
      ]
    },
    {
      "cell_type": "code",
      "metadata": {
        "colab": {
          "base_uri": "https://localhost:8080/"
        },
        "id": "iR1370LEtMf6",
        "outputId": "7c3f3a4b-c843-4fb1-8bbe-3a0c7f15e22d"
      },
      "source": [
        "query <- base %>% select(DS_ROLAGEM, DT_VENCIMENTO) %>%\n",
        "mutate(Data = DT_VENCIMENTO, mes = format(Data, \"%m/%Y\" )) %>% \n",
        "group_by(mes) %>% \n",
        "summarise(quantidade_fx1 = sum(ifelse(DS_ROLAGEM == 'FX1',1,0)),\n",
        "quantidade_fx0 = sum(ifelse(DS_ROLAGEM == 'FX0',1,0)),\n",
        "percentual_fx1 = quantidade_fx1/(quantidade_fx1 + quantidade_fx0)*100,\n",
        "percentual_fx0 = quantidade_fx0/(quantidade_fx1 + quantidade_fx0)*100)\n",
        "\n",
        "print(query) "
      ],
      "execution_count": 10,
      "outputs": [
        {
          "output_type": "stream",
          "text": [
            "\u001b[90m# A tibble: 9 x 5\u001b[39m\n",
            "  mes     quantidade_fx1 quantidade_fx0 percentual_fx1 percentual_fx0\n",
            "  \u001b[3m\u001b[90m<chr>\u001b[39m\u001b[23m            \u001b[3m\u001b[90m<dbl>\u001b[39m\u001b[23m          \u001b[3m\u001b[90m<dbl>\u001b[39m\u001b[23m          \u001b[3m\u001b[90m<dbl>\u001b[39m\u001b[23m          \u001b[3m\u001b[90m<dbl>\u001b[39m\u001b[23m\n",
            "\u001b[90m1\u001b[39m 01/2019          \u001b[4m2\u001b[24m\u001b[4m2\u001b[24m835         \u001b[4m2\u001b[24m\u001b[4m9\u001b[24m\u001b[4m0\u001b[24m548           7.29           92.7\n",
            "\u001b[90m2\u001b[39m 02/2019          \u001b[4m2\u001b[24m\u001b[4m7\u001b[24m928         \u001b[4m2\u001b[24m\u001b[4m8\u001b[24m\u001b[4m5\u001b[24m921           8.90           91.1\n",
            "\u001b[90m3\u001b[39m 03/2019          \u001b[4m3\u001b[24m\u001b[4m3\u001b[24m432         \u001b[4m2\u001b[24m\u001b[4m7\u001b[24m\u001b[4m3\u001b[24m886          10.9            89.1\n",
            "\u001b[90m4\u001b[39m 04/2019          \u001b[4m2\u001b[24m\u001b[4m5\u001b[24m380         \u001b[4m2\u001b[24m\u001b[4m7\u001b[24m\u001b[4m6\u001b[24m950           8.39           91.6\n",
            "\u001b[90m5\u001b[39m 05/2019          \u001b[4m3\u001b[24m\u001b[4m0\u001b[24m321         \u001b[4m2\u001b[24m\u001b[4m7\u001b[24m\u001b[4m1\u001b[24m544          10.0            90.0\n",
            "\u001b[90m6\u001b[39m 06/2019          \u001b[4m2\u001b[24m\u001b[4m5\u001b[24m977         \u001b[4m2\u001b[24m\u001b[4m7\u001b[24m\u001b[4m8\u001b[24m389           8.53           91.5\n",
            "\u001b[90m7\u001b[39m 07/2019          \u001b[4m2\u001b[24m\u001b[4m9\u001b[24m889         \u001b[4m2\u001b[24m\u001b[4m8\u001b[24m\u001b[4m1\u001b[24m005           9.61           90.4\n",
            "\u001b[90m8\u001b[39m 08/2019          \u001b[4m2\u001b[24m\u001b[4m8\u001b[24m736         \u001b[4m2\u001b[24m\u001b[4m8\u001b[24m\u001b[4m8\u001b[24m331           9.06           90.9\n",
            "\u001b[90m9\u001b[39m 09/2019          \u001b[4m2\u001b[24m\u001b[4m1\u001b[24m955         \u001b[4m2\u001b[24m\u001b[4m3\u001b[24m\u001b[4m5\u001b[24m222           8.54           91.5\n"
          ],
          "name": "stdout"
        }
      ]
    },
    {
      "cell_type": "code",
      "metadata": {
        "colab": {
          "base_uri": "https://localhost:8080/",
          "height": 856
        },
        "id": "K3GGIoe12ipf",
        "outputId": "04a01d7b-9126-44bb-de41-ab1873552964"
      },
      "source": [
        "dados_view = data.frame(query)\n",
        "ggplot(data = dados_view, aes(x = mes, y = percentual_fx1)) + geom_line(group = 1, color = 'red3') + geom_point()\n",
        "ggplot(data = dados_view, aes(mes, quantidade_fx1)) + geom_col()"
      ],
      "execution_count": 11,
      "outputs": [
        {
          "output_type": "display_data",
          "data": {
            "image/png": "[encoded data removed]",
            "text/plain": [
              "plot without title"
            ]
          },
          "metadata": {
            "tags": [],
            "image/png": {
              "width": 420,
              "height": 420
            }
          }
        },
        {
          "output_type": "display_data",
          "data": {
            "image/png": "[encoded data removed]",
            "text/plain": [
              "plot without title"
            ]
          },
          "metadata": {
            "tags": [],
            "image/png": {
              "width": 420,
              "height": 420
            }
          }
        }
      ]
    },
    {
      "cell_type": "code",
      "metadata": {
        "colab": {
          "base_uri": "https://localhost:8080/",
          "height": 124
        },
        "id": "IWqgVVk9k4Mv",
        "outputId": "ac1cf4f8-3433-4de4-d060-7411b04c250f"
      },
      "source": [
        "# Podemos extrair o mês que obteve o maior percentual de clientes que \n",
        "# não pagaram a fatura do mês # anterior: \n",
        "query %>% slice(which.max(percentual_fx1))"
      ],
      "execution_count": 12,
      "outputs": [
        {
          "output_type": "display_data",
          "data": {
            "text/plain": [
              "  mes     quantidade_fx1 quantidade_fx0 percentual_fx1 percentual_fx0\n",
              "1 03/2019 33432          273886         10.87863       89.12137      "
            ],
            "text/latex": "A tibble: 1 × 5\n\\begin{tabular}{lllll}\n mes & quantidade\\_fx1 & quantidade\\_fx0 & percentual\\_fx1 & percentual\\_fx0\\\\\n <chr> & <dbl> & <dbl> & <dbl> & <dbl>\\\\\n\\hline\n\t 03/2019 & 33432 & 273886 & 10.87863 & 89.12137\\\\\n\\end{tabular}\n",
            "text/markdown": "\nA tibble: 1 × 5\n\n| mes &lt;chr&gt; | quantidade_fx1 &lt;dbl&gt; | quantidade_fx0 &lt;dbl&gt; | percentual_fx1 &lt;dbl&gt; | percentual_fx0 &lt;dbl&gt; |\n|---|---|---|---|---|\n| 03/2019 | 33432 | 273886 | 10.87863 | 89.12137 |\n\n",
            "text/html": [
              "<table class=\"dataframe\">\n",
              "<caption>A tibble: 1 × 5</caption>\n",
              "<thead>\n",
              "\t<tr><th scope=col>mes</th><th scope=col>quantidade_fx1</th><th scope=col>quantidade_fx0</th><th scope=col>percentual_fx1</th><th scope=col>percentual_fx0</th></tr>\n",
              "\t<tr><th scope=col>&lt;chr&gt;</th><th scope=col>&lt;dbl&gt;</th><th scope=col>&lt;dbl&gt;</th><th scope=col>&lt;dbl&gt;</th><th scope=col>&lt;dbl&gt;</th></tr>\n",
              "</thead>\n",
              "<tbody>\n",
              "\t<tr><td>03/2019</td><td>33432</td><td>273886</td><td>10.87863</td><td>89.12137</td></tr>\n",
              "</tbody>\n",
              "</table>\n"
            ]
          },
          "metadata": {
            "tags": []
          }
        }
      ]
    },
    {
      "cell_type": "code",
      "metadata": {
        "colab": {
          "base_uri": "https://localhost:8080/",
          "height": 124
        },
        "id": "y0hDPcYBoVfD",
        "outputId": "827941e0-c184-471f-f24e-aaee0afe6cb1"
      },
      "source": [
        "# Do mesmo modo, podemos obter o mês com menor percentual de clientes \n",
        "# que não pagaram a fatura no mês anterior: \n",
        "query %>% slice(which.min(percentual_fx1))"
      ],
      "execution_count": 13,
      "outputs": [
        {
          "output_type": "display_data",
          "data": {
            "text/plain": [
              "  mes     quantidade_fx1 quantidade_fx0 percentual_fx1 percentual_fx0\n",
              "1 01/2019 22835          290548         7.286611       92.71339      "
            ],
            "text/latex": "A tibble: 1 × 5\n\\begin{tabular}{lllll}\n mes & quantidade\\_fx1 & quantidade\\_fx0 & percentual\\_fx1 & percentual\\_fx0\\\\\n <chr> & <dbl> & <dbl> & <dbl> & <dbl>\\\\\n\\hline\n\t 01/2019 & 22835 & 290548 & 7.286611 & 92.71339\\\\\n\\end{tabular}\n",
            "text/markdown": "\nA tibble: 1 × 5\n\n| mes &lt;chr&gt; | quantidade_fx1 &lt;dbl&gt; | quantidade_fx0 &lt;dbl&gt; | percentual_fx1 &lt;dbl&gt; | percentual_fx0 &lt;dbl&gt; |\n|---|---|---|---|---|\n| 01/2019 | 22835 | 290548 | 7.286611 | 92.71339 |\n\n",
            "text/html": [
              "<table class=\"dataframe\">\n",
              "<caption>A tibble: 1 × 5</caption>\n",
              "<thead>\n",
              "\t<tr><th scope=col>mes</th><th scope=col>quantidade_fx1</th><th scope=col>quantidade_fx0</th><th scope=col>percentual_fx1</th><th scope=col>percentual_fx0</th></tr>\n",
              "\t<tr><th scope=col>&lt;chr&gt;</th><th scope=col>&lt;dbl&gt;</th><th scope=col>&lt;dbl&gt;</th><th scope=col>&lt;dbl&gt;</th><th scope=col>&lt;dbl&gt;</th></tr>\n",
              "</thead>\n",
              "<tbody>\n",
              "\t<tr><td>01/2019</td><td>22835</td><td>290548</td><td>7.286611</td><td>92.71339</td></tr>\n",
              "</tbody>\n",
              "</table>\n"
            ]
          },
          "metadata": {
            "tags": []
          }
        }
      ]
    },
    {
      "cell_type": "markdown",
      "metadata": {
        "id": "mQFAbcHv4EAc"
      },
      "source": [
        "##### 1.2 – Tendo como referência todos os clientes que tiveram fatura emitida no mês de setembro, gere uma base para esses clientes com os seguintes calculados:\n",
        "\n",
        "* Total de faturas emitidas nos últimos 6 meses (sem contar com a fatura de setembro);\n",
        "* O valor médio de fatura nos últimos 6 meses (sem contar com a fatura de setembro);\n",
        "* Quantidade de vezes que ele ficou sem pagar a fatura anterior nos últimos 6 meses (sem contar com a fatura de setembro). "
      ]
    },
    {
      "cell_type": "code",
      "metadata": {
        "id": "w4Y55RUi4hji"
      },
      "source": [
        "# clientes que tiveram fatura emitida no mês de setembro\n",
        "cc  = base %>%  \n",
        "  mutate(data = as_date(DT_VENCIMENTO))  %>%\n",
        "  mutate(mes = floor_date(data,\"month\")) %>% \n",
        "  filter(data >= '2019-09-01') %>% \n",
        "  group_by(ID_CONTA,data) %>% select(ID_CONTA,data)"
      ],
      "execution_count": 14,
      "outputs": []
    },
    {
      "cell_type": "code",
      "metadata": {
        "id": "x3WrS-a641U4"
      },
      "source": [
        "# Fazendo um join com os dados da base geral \n",
        "new.data = cc %>% inner_join(base, by = 'ID_CONTA') "
      ],
      "execution_count": 15,
      "outputs": []
    },
    {
      "cell_type": "code",
      "metadata": {
        "colab": {
          "base_uri": "https://localhost:8080/"
        },
        "id": "RCELgLLk69FJ",
        "outputId": "7e37458d-259d-4298-adcc-619193a4ddd1"
      },
      "source": [
        "query2 = new.data  %>% \n",
        "  select(ID_CONTA,DS_ROLAGEM,DT_VENCIMENTO,VL_FATURA) %>%\n",
        "  group_by(ID_CONTA,DS_ROLAGEM) %>% \n",
        "  filter(DT_VENCIMENTO < '2019-09-01') %>% \n",
        "  summarise(qtde_fatura_ult_6m= sum(ifelse(DT_VENCIMENTO < '2019-09-01',1,0)),\n",
        "    vmedio_fatura = sum(VL_FATURA)/sum(ifelse(DT_VENCIMENTO < '2019-09-01',1,0)),\n",
        "    qtde_faturas_ult_6m_fx1 = sum(ifelse(DS_ROLAGEM == 'FX1',1,0))) \n",
        "print(query2)"
      ],
      "execution_count": 16,
      "outputs": [
        {
          "output_type": "stream",
          "text": [
            "`summarise()` has grouped output by 'ID_CONTA'. You can override using the `.groups` argument.\n",
            "\n"
          ],
          "name": "stderr"
        },
        {
          "output_type": "stream",
          "text": [
            "\u001b[90m# A tibble: 292,745 x 5\u001b[39m\n",
            "\u001b[90m# Groups:   ID_CONTA [240,710]\u001b[39m\n",
            "   ID_CONTA DS_ROLAGEM qtde_fatura_ult_6m vmedio_fatura qtde_faturas_ult_6m_fx1\n",
            "      \u001b[3m\u001b[90m<int>\u001b[39m\u001b[23m \u001b[3m\u001b[90m<fct>\u001b[39m\u001b[23m                   \u001b[3m\u001b[90m<dbl>\u001b[39m\u001b[23m         \u001b[3m\u001b[90m<dbl>\u001b[39m\u001b[23m                   \u001b[3m\u001b[90m<dbl>\u001b[39m\u001b[23m\n",
            "\u001b[90m 1\u001b[39m    \u001b[4m2\u001b[24m\u001b[4m7\u001b[24m717 FX0                         8        \u001b[4m1\u001b[24m588.                        0\n",
            "\u001b[90m 2\u001b[39m    \u001b[4m2\u001b[24m\u001b[4m7\u001b[24m789 FX0                         8         961.                        0\n",
            "\u001b[90m 3\u001b[39m    \u001b[4m3\u001b[24m\u001b[4m0\u001b[24m256 FX0                         8         451.                        0\n",
            "\u001b[90m 4\u001b[39m    \u001b[4m3\u001b[24m\u001b[4m5\u001b[24m473 FX0                         8         886.                        0\n",
            "\u001b[90m 5\u001b[39m    \u001b[4m3\u001b[24m\u001b[4m5\u001b[24m510 FX0                         8        \u001b[4m1\u001b[24m252.                        0\n",
            "\u001b[90m 6\u001b[39m    \u001b[4m3\u001b[24m\u001b[4m5\u001b[24m534 FX0                         8         407.                        0\n",
            "\u001b[90m 7\u001b[39m    \u001b[4m3\u001b[24m\u001b[4m5\u001b[24m576 FX0                         7          53.8                       0\n",
            "\u001b[90m 8\u001b[39m    \u001b[4m3\u001b[24m\u001b[4m5\u001b[24m663 FX0                         7         265.                        0\n",
            "\u001b[90m 9\u001b[39m    \u001b[4m3\u001b[24m\u001b[4m5\u001b[24m702 FX0                         8        \u001b[4m2\u001b[24m298.                        0\n",
            "\u001b[90m10\u001b[39m    \u001b[4m3\u001b[24m\u001b[4m5\u001b[24m707 FX0                         8         443.                        0\n",
            "\u001b[90m# … with 292,735 more rows\u001b[39m\n"
          ],
          "name": "stdout"
        }
      ]
    },
    {
      "cell_type": "markdown",
      "metadata": {
        "id": "2oNx5cNH-IN3"
      },
      "source": [
        "##### 1.3 - Utilizando como referência a base calculada na questão anterior, identifique qual das 3 variáveis calculadas tem o maior potencial de preditivo em relação a variável DS_ROLAGEM do mês de setembro. "
      ]
    },
    {
      "cell_type": "code",
      "metadata": {
        "id": "hgODs1gy_CLA"
      },
      "source": [
        "# Bibliotecas que serão utilizadas \n",
        "p_load(rpart, rpart.plot)"
      ],
      "execution_count": null,
      "outputs": []
    },
    {
      "cell_type": "markdown",
      "metadata": {
        "id": "dpQVDazh_uV0"
      },
      "source": [
        "Nos dados a variável objetivo ou *target* é a variável *DS_ROLAGEM* que indica se determinado cliente pagou ou não a fatura do mês anterior. As demais variáveis indicam a quantidade de faturas, a soma das faturas e a média das faturas nós últimos 6 meses. A metodologia que iremos apresentar a seguir, definem regras baseadas em árvores de decisão (*decision trees*). Uma árvore de decisão é uma forma de visualizar as regras de negócio que levam a determinados grupos de indivíduos, construídos com base em uma variável target. \n",
        "\n",
        "Dito isto, prosseguimos com nossa análise: "
      ]
    },
    {
      "cell_type": "code",
      "metadata": {
        "id": "2CdHgq5aA_aF"
      },
      "source": [
        "# Vamos separar os dados em treino e teste \n",
        "\n",
        "set.seed(300121)\n",
        "\n",
        ".data <- c(\"training\", \"test\") %>%\n",
        "  sample(nrow(query2), replace = T) %>%\n",
        "  split(query2, .)"
      ],
      "execution_count": 19,
      "outputs": []
    },
    {
      "cell_type": "code",
      "metadata": {
        "colab": {
          "base_uri": "https://localhost:8080/",
          "height": 436
        },
        "id": "BrTNJxftBgde",
        "outputId": "3a030f24-6260-40c0-c27a-0e78e83412f9"
      },
      "source": [
        "# Criar a árvore de decisão\n",
        "rtree_fit <- rpart(DS_ROLAGEM ~ ., .data$training)\n",
        "rpart.plot(rtree_fit)"
      ],
      "execution_count": 20,
      "outputs": [
        {
          "output_type": "display_data",
          "data": {
            "image/png": "[encoded data removed]",
            "text/plain": [
              "plot without title"
            ]
          },
          "metadata": {
            "tags": [],
            "image/png": {
              "width": 420,
              "height": 420
            }
          }
        }
      ]
    },
    {
      "cell_type": "markdown",
      "metadata": {
        "id": "qKdRprVkCE1c"
      },
      "source": [
        "Aqui percebemos que a variável que gera a menor entropia (variável que gera a primeira divisão nos dados) é a variável *DS_ROLAGEM*. Um conceito muito relacionado à entropia é o ganho informação. O ganho de informação ocorre quando existe uma nova divisao nos dados que provoca uma menor entropia.  \n",
        "\n",
        "Conseguimos verificar a primeira regra definida: se o cliente pagou todas as faturas dos meses anteriores nos últimos 6 meses, então ele possuirá status de DS_ROLAGEM igual a FX0, isto é, que ele pagou a fatura do mês anterior. Isto corresponde 82 % do total de clientes. Então, podemos observar que a variável que possivelmente será a maior preditora da variavel DS_ROLAGEM será *qtde_faturas_ult_6m_fx1*. "
      ]
    },
    {
      "cell_type": "markdown",
      "metadata": {
        "id": "pyBtIQ02HxLq"
      },
      "source": [
        "# Problema 2"
      ]
    },
    {
      "cell_type": "markdown",
      "metadata": {
        "id": "3Ukdo-9DHCT8"
      },
      "source": [
        "O ciclo de crédito do cartão Fortbrasil consiste em 3 etapas: Aquisição, Manutenção e Cobrança. O cliente entra em cobrança com 5 dias de atraso, e quando atinge a marca de 65 dias tem o cartão cancelado e então para realizar o pagamento da dívida precisa realizar um acordo. A FortBrasil irá fazer uma nova campanha para aumentar a adesão aos acordos e gostaria de traçar uma estratégia de cobrança utilizando as informações históricas e técnicas de modelagem preditivas. Segue abaixo as definições das variáveis:\n",
        "\n",
        "* **ID_CONTA**: Identificador da conta;\n",
        "* **DT_ACORDO**: Data do acordo;\n",
        "* **NU_DIAS_ATRASO**: Número de dias após o vencimento que esse cliente está sem pagar;\n",
        "* **VALOR_CRELIQ**: Valor da dívida do cliente quando ele ultrapassa os 65 dias de atraso;\n",
        "* **DIVIDA_ATUAL**: Dívida atualizada com juros;\n",
        "* **RESPOSTA**: Se for 1, significa que o cliente aderiu aquele acordo. Ou seja, efetuou o pagamento da entrada. Se for 0, caso contrário.\n",
        "* **QTD_PARCELAMENTO_XM**: Quantidade de parcelamentos de fatura aderidos X meses antes da fatura que ele deixou de pagar.\n",
        "* **LIMITE**: Limite total do cliente;\n",
        "* **QTD_EXTRATOS**: Quantidade de Faturas emitidas;\n",
        "* **QTD_FX0**: Quantidade de faturas emitidas em dia;\n",
        "* **QTD_FX1**: Quantidade de faturas emitidas no qual o cliente não pagou a fatura do mês anterior;\n",
        "* **QTD_FX2**: Quantidade de faturas emitidas no qual o cliente não pagou as duas ultimas faturas anteriores;\n",
        "* **QTD_ACIONAMENTO**: Quantidade de vezes que ligamos para os clientes para cobrar a sua dívida;\n",
        "* **QTD_CP**: Quantidade de vezes que a ligação foi atendida, mas não houve contato com o cliente;\n",
        "* **QTD_CPC**: Quantidade de vezes que o próprio cliente atendeu a ligação de cobrança.\t\n",
        "* **DEFINIÇÃO**: Acordo é uma proposta de negociação da dívida por parte da Fortbrasil para clientes que estão com mais de 180 dias de atraso.\n",
        "\n",
        "Baseado nessas informações, responda:\n",
        "\n",
        "\n",
        "* 2.1 Qual o percentual de adesão mensal por faixa de atraso (Histórico)?.\n",
        "* 2.2 Crie um relatório analítico no Power BI para acompanhar a adesão dos acordos e criar insights de como melhorar essa adesão.\n",
        "* 2.3 Qual modelo você utilizaria para traçar uma estratégia objetivando o aumento da adesão dos acordos? (Descreva a técnica utilizada).\n",
        "* 2.4 Quais indicadores e ferramentas você utilizaria para avaliar a performance/aderência desse modelo? (Descreva os indicadores utilizados).\n",
        "* 2.5 Apresente o modelo desenvolvido utilizando a técnica do item (2.2) e as técnicas de avaliação descritas no item (2.3)."
      ]
    },
    {
      "cell_type": "markdown",
      "metadata": {
        "id": "rmSPEgHMYTk8"
      },
      "source": [
        "##### Qual modelo você utilizaria para traçar uma estratégia objetivando o aumento da adesão dos acordos? (Descreva a técnica utilizada)."
      ]
    },
    {
      "cell_type": "code",
      "metadata": {
        "colab": {
          "base_uri": "https://localhost:8080/",
          "height": 274
        },
        "id": "BA-2m8gNJuOz",
        "outputId": "df59984d-86c2-4ea3-efcb-e0d3b6943a6a"
      },
      "source": [
        "# Base de dados que utilizaremos \n",
        "head(base1)"
      ],
      "execution_count": 21,
      "outputs": [
        {
          "output_type": "display_data",
          "data": {
            "text/plain": [
              "  ID_CONTA DT_ACORDO  NU_DIAS_ATRASO VALOR_CRELIQ DIVIDA_ATUAL RESPOSTA\n",
              "1 1194908  2018-11-22 221             324.38       463.73      0       \n",
              "2 1447997  2018-11-22 191             334.82       451.56      1       \n",
              "3 1035415  2018-11-22 252            1682.26      2554.18      0       \n",
              "4 1069434  2018-11-22 231            1625.01      2368.65      0       \n",
              "5 1427566  2018-11-22 270             320.07       503.25      0       \n",
              "6 1114924  2018-11-22 301            1458.19      2435.04      0       "
            ],
            "text/latex": "A tibble: 6 × 6\n\\begin{tabular}{llllll}\n ID\\_CONTA & DT\\_ACORDO & NU\\_DIAS\\_ATRASO & VALOR\\_CRELIQ & DIVIDA\\_ATUAL & RESPOSTA\\\\\n <int> & <chr> & <int> & <dbl> & <dbl> & <int>\\\\\n\\hline\n\t 1194908 & 2018-11-22 & 221 &  324.38 &  463.73 & 0\\\\\n\t 1447997 & 2018-11-22 & 191 &  334.82 &  451.56 & 1\\\\\n\t 1035415 & 2018-11-22 & 252 & 1682.26 & 2554.18 & 0\\\\\n\t 1069434 & 2018-11-22 & 231 & 1625.01 & 2368.65 & 0\\\\\n\t 1427566 & 2018-11-22 & 270 &  320.07 &  503.25 & 0\\\\\n\t 1114924 & 2018-11-22 & 301 & 1458.19 & 2435.04 & 0\\\\\n\\end{tabular}\n",
            "text/markdown": "\nA tibble: 6 × 6\n\n| ID_CONTA &lt;int&gt; | DT_ACORDO &lt;chr&gt; | NU_DIAS_ATRASO &lt;int&gt; | VALOR_CRELIQ &lt;dbl&gt; | DIVIDA_ATUAL &lt;dbl&gt; | RESPOSTA &lt;int&gt; |\n|---|---|---|---|---|---|\n| 1194908 | 2018-11-22 | 221 |  324.38 |  463.73 | 0 |\n| 1447997 | 2018-11-22 | 191 |  334.82 |  451.56 | 1 |\n| 1035415 | 2018-11-22 | 252 | 1682.26 | 2554.18 | 0 |\n| 1069434 | 2018-11-22 | 231 | 1625.01 | 2368.65 | 0 |\n| 1427566 | 2018-11-22 | 270 |  320.07 |  503.25 | 0 |\n| 1114924 | 2018-11-22 | 301 | 1458.19 | 2435.04 | 0 |\n\n",
            "text/html": [
              "<table class=\"dataframe\">\n",
              "<caption>A tibble: 6 × 6</caption>\n",
              "<thead>\n",
              "\t<tr><th scope=col>ID_CONTA</th><th scope=col>DT_ACORDO</th><th scope=col>NU_DIAS_ATRASO</th><th scope=col>VALOR_CRELIQ</th><th scope=col>DIVIDA_ATUAL</th><th scope=col>RESPOSTA</th></tr>\n",
              "\t<tr><th scope=col>&lt;int&gt;</th><th scope=col>&lt;chr&gt;</th><th scope=col>&lt;int&gt;</th><th scope=col>&lt;dbl&gt;</th><th scope=col>&lt;dbl&gt;</th><th scope=col>&lt;int&gt;</th></tr>\n",
              "</thead>\n",
              "<tbody>\n",
              "\t<tr><td>1194908</td><td>2018-11-22</td><td>221</td><td> 324.38</td><td> 463.73</td><td>0</td></tr>\n",
              "\t<tr><td>1447997</td><td>2018-11-22</td><td>191</td><td> 334.82</td><td> 451.56</td><td>1</td></tr>\n",
              "\t<tr><td>1035415</td><td>2018-11-22</td><td>252</td><td>1682.26</td><td>2554.18</td><td>0</td></tr>\n",
              "\t<tr><td>1069434</td><td>2018-11-22</td><td>231</td><td>1625.01</td><td>2368.65</td><td>0</td></tr>\n",
              "\t<tr><td>1427566</td><td>2018-11-22</td><td>270</td><td> 320.07</td><td> 503.25</td><td>0</td></tr>\n",
              "\t<tr><td>1114924</td><td>2018-11-22</td><td>301</td><td>1458.19</td><td>2435.04</td><td>0</td></tr>\n",
              "</tbody>\n",
              "</table>\n"
            ]
          },
          "metadata": {
            "tags": []
          }
        }
      ]
    },
    {
      "cell_type": "code",
      "metadata": {
        "colab": {
          "base_uri": "https://localhost:8080/"
        },
        "id": "DZEcVYCMKTHF",
        "outputId": "51cb5798-50df-47eb-8374-d395b8b600e4"
      },
      "source": [
        "# Vamos transformar somente a variável DT_ACORDO em formato Date: \n",
        "base1$DT_ACORDO <- as_date(base1$DT_ACORDO)\n",
        "glimpse(base1)"
      ],
      "execution_count": 22,
      "outputs": [
        {
          "output_type": "stream",
          "text": [
            "Rows: 72,533\n",
            "Columns: 6\n",
            "$ ID_CONTA       \u001b[3m\u001b[90m<int>\u001b[39m\u001b[23m 1194908, 1447997, 1035415, 1069434, 1427566, 1114924, 1…\n",
            "$ DT_ACORDO      \u001b[3m\u001b[90m<date>\u001b[39m\u001b[23m 2018-11-22, 2018-11-22, 2018-11-22, 2018-11-22, 2018-1…\n",
            "$ NU_DIAS_ATRASO \u001b[3m\u001b[90m<int>\u001b[39m\u001b[23m 221, 191, 252, 231, 270, 301, 262, 311, 280, 196, 221, …\n",
            "$ VALOR_CRELIQ   \u001b[3m\u001b[90m<dbl>\u001b[39m\u001b[23m 324.38, 334.82, 1682.26, 1625.01, 320.07, 1458.19, 493.…\n",
            "$ DIVIDA_ATUAL   \u001b[3m\u001b[90m<dbl>\u001b[39m\u001b[23m 463.73, 451.56, 2554.18, 2368.65, 503.25, 2435.04, 763.…\n",
            "$ RESPOSTA       \u001b[3m\u001b[90m<int>\u001b[39m\u001b[23m 0, 1, 0, 0, 0, 0, 0, 0, 0, 0, 0, 0, 0, 0, 0, 0, 0, 0, 0…\n"
          ],
          "name": "stdout"
        }
      ]
    },
    {
      "cell_type": "code",
      "metadata": {
        "colab": {
          "base_uri": "https://localhost:8080/",
          "height": 70
        },
        "id": "607-jdHiKxin",
        "outputId": "27f3b44a-0eac-47c5-d5ad-8de0e693ee48"
      },
      "source": [
        "# Verificando se a base possui valores faltantes \n",
        "\n",
        "table(is.na(base1))"
      ],
      "execution_count": 23,
      "outputs": [
        {
          "output_type": "display_data",
          "data": {
            "text/plain": [
              "\n",
              " FALSE \n",
              "435198 "
            ]
          },
          "metadata": {
            "tags": []
          }
        }
      ]
    },
    {
      "cell_type": "code",
      "metadata": {
        "colab": {
          "base_uri": "https://localhost:8080/",
          "height": 214
        },
        "id": "GYe55RK0LDcY",
        "outputId": "131d1954-6a1a-402a-d02a-6b3405d8a512"
      },
      "source": [
        "# Pode-se verificar que esta base não possui dados faltantes. Prosseguimos com a análise: \n",
        "\n",
        "adesao_mensal <- base1 %>% filter(NU_DIAS_ATRASO >= 65) %>%\n",
        "  select(ID_CONTA,DT_ACORDO,RESPOSTA,NU_DIAS_ATRASO) %>% \n",
        "  mutate(mes = format(DT_ACORDO,\"%m/%Y\")) %>% \n",
        "  group_by(mes) %>%\n",
        "  summarise(qtde_acordo = sum(ifelse(RESPOSTA == '1',1,0)),\n",
        "  qtde_n_acordo = sum(ifelse(RESPOSTA == '0',1,0)),\n",
        "  pct_acordo   = qtde_acordo/(qtde_acordo + qtde_n_acordo)*100,\n",
        "  pct_n_acordo = qtde_n_acordo/(qtde_acordo + qtde_n_acordo)*100) \n",
        "\n",
        "adesao_mensal"
      ],
      "execution_count": 27,
      "outputs": [
        {
          "output_type": "display_data",
          "data": {
            "text/plain": [
              "  mes     qtde_acordo qtde_n_acordo pct_acordo pct_n_acordo\n",
              "1 03/2019 310         22328          1.369379  98.63062    \n",
              "2 04/2019 283           528         34.895191  65.10481    \n",
              "3 06/2019 965         30120          3.104391  96.89561    \n",
              "4 11/2018 587         17412          3.261292  96.73871    "
            ],
            "text/latex": "A tibble: 4 × 5\n\\begin{tabular}{lllll}\n mes & qtde\\_acordo & qtde\\_n\\_acordo & pct\\_acordo & pct\\_n\\_acordo\\\\\n <chr> & <dbl> & <dbl> & <dbl> & <dbl>\\\\\n\\hline\n\t 03/2019 & 310 & 22328 &  1.369379 & 98.63062\\\\\n\t 04/2019 & 283 &   528 & 34.895191 & 65.10481\\\\\n\t 06/2019 & 965 & 30120 &  3.104391 & 96.89561\\\\\n\t 11/2018 & 587 & 17412 &  3.261292 & 96.73871\\\\\n\\end{tabular}\n",
            "text/markdown": "\nA tibble: 4 × 5\n\n| mes &lt;chr&gt; | qtde_acordo &lt;dbl&gt; | qtde_n_acordo &lt;dbl&gt; | pct_acordo &lt;dbl&gt; | pct_n_acordo &lt;dbl&gt; |\n|---|---|---|---|---|\n| 03/2019 | 310 | 22328 |  1.369379 | 98.63062 |\n| 04/2019 | 283 |   528 | 34.895191 | 65.10481 |\n| 06/2019 | 965 | 30120 |  3.104391 | 96.89561 |\n| 11/2018 | 587 | 17412 |  3.261292 | 96.73871 |\n\n",
            "text/html": [
              "<table class=\"dataframe\">\n",
              "<caption>A tibble: 4 × 5</caption>\n",
              "<thead>\n",
              "\t<tr><th scope=col>mes</th><th scope=col>qtde_acordo</th><th scope=col>qtde_n_acordo</th><th scope=col>pct_acordo</th><th scope=col>pct_n_acordo</th></tr>\n",
              "\t<tr><th scope=col>&lt;chr&gt;</th><th scope=col>&lt;dbl&gt;</th><th scope=col>&lt;dbl&gt;</th><th scope=col>&lt;dbl&gt;</th><th scope=col>&lt;dbl&gt;</th></tr>\n",
              "</thead>\n",
              "<tbody>\n",
              "\t<tr><td>03/2019</td><td>310</td><td>22328</td><td> 1.369379</td><td>98.63062</td></tr>\n",
              "\t<tr><td>04/2019</td><td>283</td><td>  528</td><td>34.895191</td><td>65.10481</td></tr>\n",
              "\t<tr><td>06/2019</td><td>965</td><td>30120</td><td> 3.104391</td><td>96.89561</td></tr>\n",
              "\t<tr><td>11/2018</td><td>587</td><td>17412</td><td> 3.261292</td><td>96.73871</td></tr>\n",
              "</tbody>\n",
              "</table>\n"
            ]
          },
          "metadata": {
            "tags": []
          }
        }
      ]
    },
    {
      "cell_type": "markdown",
      "metadata": {
        "id": "38VZuqxzRBL0"
      },
      "source": [
        "##### 2.3 Qual modelo você utilizaria para traçar uma estratégia objetivando o aumento da adesão dos acordos? (Descreva a técnica utilizada)."
      ]
    },
    {
      "cell_type": "markdown",
      "metadata": {
        "id": "GAMpuYEmRNTy"
      },
      "source": [
        "Nesse tipo de problema que foi apresentado, temos uma variável resposta do tipo binária que assume apenas dois valores distintos: 1 (se o cliente aderiu o acordo) e 0 caso contrário. Existem também as diversas variáveis apresentadas que poderiam ser utilizadas para explicar a variável resposta. Assim, podemos pensar num modelo de regressão logístico utilizando a abordagem de MLGS (Modelos Lineares Generalizados) com função de ligação *logit* e verificar quais variáveis são significativas ou não para o modelo. Para isso podem ser utilizados métodos de seleção de variáveis. Um dos métodos mais conhecidos é o método *stepwise* que seleciona todas as combinações possíveis de variáveis e testa a significância das mesmas e ao final retorna a combinação que melhor representa o modelo. É um tipo de saída. \n",
        "\n",
        "Outra maneira consiste na utilização de árvores de decisão que de forma simples particiona o conjunto de dados em subgrupos de menor desordem (menor entropia). As partições ocorrem a partir de características (*features*) e os resultados obtidos são as probabiidades de uma nova observação pertencer a uma determinada classe. Podem existir problemas de overfiting quando os ramos das árvores são excessivos e não há possibilidade de generalização de regras. Neste caso, temos o processo de poda nas árvores de decisão, que simplificam as regras e tornam a árvore de decisão mais interpretável e com regras mais consistentes, e por consequência, melhores classificações. \n",
        "\n",
        "Outra alternativa seria a utilização de florestas aleatórias (*random forest*). Este tipo de modelo combina diversas árvores de decisão e gera a resposta a partir dos resultados que foram obtidos. Assim como nas árvores de decisão, existem nesse caso processos de poda conhecido como poda de ramos. \n",
        "\n",
        "Uma outra técnica que tem ganhado bastante popularidade é a Light GBM que é uma estrutura de aumento de gradiente que usa algoritmo de aprendizagem baseado em árvore. A diferença dessa técnica para as duas técnicas apresentadas anteriormente é que Light GBM cresce árvore verticalmente, enquanto os outros algoritmos crescem árvores horizontalmente, o que significa que Light GBM cresce árvore em forma de folha enquanto outro algoritmo cresce em nível. Ele escolherá a folha com perda máxima de delta para crescer. Ao crescer a mesma folha, o algoritmo Leaf-wise pode reduzir mais perdas do que um algoritmo de nível. Assim, usaremos três métodos para a resolução do problema: \n",
        "\n",
        "* Regressão Logística, Árvores de Decisão e Florestas Aleatórias, \n",
        "\n",
        "comparando as performances dos modelos. \n"
      ]
    },
    {
      "cell_type": "markdown",
      "metadata": {
        "id": "9ximdoFUYm6Q"
      },
      "source": [
        "##### 2.4 Quais indicadores e ferramentas você utilizaria para avaliar a performance/aderência desse modelo? (Descreva os indicadores utilizados)."
      ]
    },
    {
      "cell_type": "markdown",
      "metadata": {
        "id": "Yb0Tw2lpZGcC"
      },
      "source": [
        "Para avaliar esses modelos um indicador bastante conehcido na literatura é a **matriz de confusão**. Esta matriz verifica quantas instâncias são classificadas como verdadeiro positivo (VP), falso positivo (FP), verdadeiro negativo (VN) e falso negativo (FN). Existem várias maneiras de trabalhar com essas métricas, e a melhor maneira de validar um modelo com satisfatório é na análise de várias dessas métricas. Algumas delas podem ser listadas: \n",
        "\n",
        "* **Acurácia**: Performance geral do modelo. \n",
        "\n",
        "\\begin{equation*}\n",
        "\\frac{VP + VN}{(VP + VN) + (FP + FN)}.\n",
        "\\end{equation*}\n",
        "\n",
        "* **Precisão**: Proporção de observações positivas previstas corretamente.\n",
        "\n",
        "\\begin{equation*}\n",
        "\\frac{VP}{VP+FP}.\n",
        "\\end{equation*}\n",
        "\n",
        "* **Sensibilidade**: Proporção de observações positivas previstas corretamente com relação a todas observações da classe positiva real.\n",
        "\n",
        "\\begin{equation*}\n",
        "\\frac{VP}{VP+FN}.\n",
        "\\end{equation*}\n"
      ]
    },
    {
      "cell_type": "markdown",
      "metadata": {
        "id": "FYDL1JLPctNA"
      },
      "source": [
        "##### 2.5 Apresente o modelo desenvolvido utilizando a técnica do item (2.2) e as técnicas de avaliação descritas no item (2.3)."
      ]
    },
    {
      "cell_type": "code",
      "metadata": {
        "id": "BJ9IojaAcv2K"
      },
      "source": [
        "# Vamos utilizar as seguintes bibliotecas para a análise \n",
        "p_load(plyr,imbalance,caret,e1071,ROSE,rpart,ROCR, lightgbm, methods, Matrix, randomForest)"
      ],
      "execution_count": null,
      "outputs": []
    },
    {
      "cell_type": "code",
      "metadata": {
        "id": "vg6aNKw9d-XL"
      },
      "source": [
        "base_geral <- join_all(list(base1,base2,base3,base4,base5), by = c(\"ID_CONTA\",\"DT_ACORDO\"))\n",
        "head(base_geral) "
      ],
      "execution_count": null,
      "outputs": []
    },
    {
      "cell_type": "code",
      "metadata": {
        "colab": {
          "base_uri": "https://localhost:8080/"
        },
        "id": "C0nieqghkUoF",
        "outputId": "6d28e155-3960-46fa-e6c0-0545d9a049d2"
      },
      "source": [
        "# Só pela leitura dos dados já notamos diversos valores NA's.\n",
        "glimpse(base_geral)"
      ],
      "execution_count": 32,
      "outputs": [
        {
          "output_type": "stream",
          "text": [
            "Rows: 72,533\n",
            "Columns: 23\n",
            "$ ID_CONTA             \u001b[3m\u001b[90m<int>\u001b[39m\u001b[23m 1194908, 1447997, 1035415, 1069434, 1427566, 1114…\n",
            "$ DT_ACORDO            \u001b[3m\u001b[90m<date>\u001b[39m\u001b[23m 2018-11-22, 2018-11-22, 2018-11-22, 2018-11-22, …\n",
            "$ NU_DIAS_ATRASO       \u001b[3m\u001b[90m<int>\u001b[39m\u001b[23m 221, 191, 252, 231, 270, 301, 262, 311, 280, 196,…\n",
            "$ VALOR_CRELIQ         \u001b[3m\u001b[90m<dbl>\u001b[39m\u001b[23m 324.38, 334.82, 1682.26, 1625.01, 320.07, 1458.19…\n",
            "$ DIVIDA_ATUAL         \u001b[3m\u001b[90m<dbl>\u001b[39m\u001b[23m 463.73, 451.56, 2554.18, 2368.65, 503.25, 2435.04…\n",
            "$ RESPOSTA             \u001b[3m\u001b[90m<int>\u001b[39m\u001b[23m 0, 1, 0, 0, 0, 0, 0, 0, 0, 0, 0, 0, 0, 0, 0, 0, 0…\n",
            "$ QTD_PARCELAMENTO_3M  \u001b[3m\u001b[90m<int>\u001b[39m\u001b[23m NA, NA, NA, NA, NA, NA, NA, NA, NA, NA, NA, NA, N…\n",
            "$ QTD_PARCELAMENTO_6M  \u001b[3m\u001b[90m<int>\u001b[39m\u001b[23m NA, NA, NA, NA, NA, NA, NA, NA, NA, NA, NA, NA, N…\n",
            "$ QTD_PARCELAMENTO_12M \u001b[3m\u001b[90m<int>\u001b[39m\u001b[23m NA, NA, NA, NA, NA, NA, NA, NA, NA, NA, NA, NA, N…\n",
            "$ LIMITE               \u001b[3m\u001b[90m<dbl>\u001b[39m\u001b[23m NA, NA, NA, NA, NA, NA, NA, NA, NA, NA, NA, NA, N…\n",
            "$ LIMITE               \u001b[3m\u001b[90m<dbl>\u001b[39m\u001b[23m NA, NA, NA, NA, NA, NA, NA, NA, NA, NA, NA, NA, N…\n",
            "$ QTD_CPC_10D          \u001b[3m\u001b[90m<int>\u001b[39m\u001b[23m NA, NA, NA, NA, NA, NA, NA, NA, NA, NA, NA, NA, N…\n",
            "$ QTD_CPC_1M           \u001b[3m\u001b[90m<int>\u001b[39m\u001b[23m NA, NA, NA, NA, NA, NA, NA, NA, NA, NA, NA, NA, N…\n",
            "$ QTD_CPC_3M           \u001b[3m\u001b[90m<int>\u001b[39m\u001b[23m NA, NA, NA, NA, NA, NA, NA, NA, NA, NA, NA, NA, N…\n",
            "$ QTD_CPC_6M           \u001b[3m\u001b[90m<int>\u001b[39m\u001b[23m NA, NA, NA, NA, NA, NA, NA, NA, NA, NA, NA, NA, N…\n",
            "$ QTD_CP_10D           \u001b[3m\u001b[90m<int>\u001b[39m\u001b[23m NA, NA, NA, NA, NA, NA, NA, NA, NA, NA, NA, NA, N…\n",
            "$ QTD_CP_1M            \u001b[3m\u001b[90m<int>\u001b[39m\u001b[23m NA, NA, NA, NA, NA, NA, NA, NA, NA, NA, NA, NA, N…\n",
            "$ QTD_CP_3M            \u001b[3m\u001b[90m<int>\u001b[39m\u001b[23m NA, NA, NA, NA, NA, NA, NA, NA, NA, NA, NA, NA, N…\n",
            "$ QTD_CP_6M            \u001b[3m\u001b[90m<int>\u001b[39m\u001b[23m NA, NA, NA, NA, NA, NA, NA, NA, NA, NA, NA, NA, N…\n",
            "$ QTD_ACIONAMENTO_10D  \u001b[3m\u001b[90m<int>\u001b[39m\u001b[23m NA, NA, NA, NA, NA, NA, NA, NA, NA, NA, NA, NA, N…\n",
            "$ QTD_ACIONAMENTO_1M   \u001b[3m\u001b[90m<int>\u001b[39m\u001b[23m NA, NA, NA, NA, NA, NA, NA, NA, NA, NA, NA, NA, N…\n",
            "$ QTD_ACIONAMENTO_3M   \u001b[3m\u001b[90m<int>\u001b[39m\u001b[23m NA, NA, NA, NA, NA, NA, NA, NA, NA, NA, NA, NA, N…\n",
            "$ QTD_ACIONAMENTO_6M   \u001b[3m\u001b[90m<int>\u001b[39m\u001b[23m NA, NA, NA, NA, NA, NA, NA, NA, NA, NA, NA, NA, N…\n"
          ],
          "name": "stdout"
        }
      ]
    },
    {
      "cell_type": "code",
      "metadata": {
        "colab": {
          "base_uri": "https://localhost:8080/",
          "height": 70
        },
        "id": "RXn-nBKrlzzu",
        "outputId": "ee38502d-1017-4c59-8f6d-4b248072e1ca"
      },
      "source": [
        "# percebe-se que os dados são desbalanceados , ou seja, aproximadamente 3% dos clientes \n",
        "# notando-se um nivel altíssimo de desacordo \n",
        "prop.table(table(base_geral$RESPOSTA))*100 "
      ],
      "execution_count": 34,
      "outputs": [
        {
          "output_type": "display_data",
          "data": {
            "text/plain": [
              "\n",
              "        0         1 \n",
              "97.042725  2.957275 "
            ]
          },
          "metadata": {
            "tags": []
          }
        }
      ]
    },
    {
      "cell_type": "code",
      "metadata": {
        "colab": {
          "base_uri": "https://localhost:8080/",
          "height": 274
        },
        "id": "-iPOioVfqXAR",
        "outputId": "c78588f2-455d-45cd-f7c5-6d61b1c8d167"
      },
      "source": [
        "base_geral[is.na(base_geral)] <- 0 # substituindo os valores faltantes por 0 \n",
        "head(base_geral[,1:7])"
      ],
      "execution_count": 35,
      "outputs": [
        {
          "output_type": "display_data",
          "data": {
            "text/plain": [
              "  ID_CONTA DT_ACORDO  NU_DIAS_ATRASO VALOR_CRELIQ DIVIDA_ATUAL RESPOSTA\n",
              "1 1194908  2018-11-22 221             324.38       463.73      0       \n",
              "2 1447997  2018-11-22 191             334.82       451.56      1       \n",
              "3 1035415  2018-11-22 252            1682.26      2554.18      0       \n",
              "4 1069434  2018-11-22 231            1625.01      2368.65      0       \n",
              "5 1427566  2018-11-22 270             320.07       503.25      0       \n",
              "6 1114924  2018-11-22 301            1458.19      2435.04      0       \n",
              "  QTD_PARCELAMENTO_3M\n",
              "1 0                  \n",
              "2 0                  \n",
              "3 0                  \n",
              "4 0                  \n",
              "5 0                  \n",
              "6 0                  "
            ],
            "text/latex": "A data.frame: 6 × 7\n\\begin{tabular}{r|lllllll}\n  & ID\\_CONTA & DT\\_ACORDO & NU\\_DIAS\\_ATRASO & VALOR\\_CRELIQ & DIVIDA\\_ATUAL & RESPOSTA & QTD\\_PARCELAMENTO\\_3M\\\\\n  & <int> & <date> & <int> & <dbl> & <dbl> & <int> & <dbl>\\\\\n\\hline\n\t1 & 1194908 & 2018-11-22 & 221 &  324.38 &  463.73 & 0 & 0\\\\\n\t2 & 1447997 & 2018-11-22 & 191 &  334.82 &  451.56 & 1 & 0\\\\\n\t3 & 1035415 & 2018-11-22 & 252 & 1682.26 & 2554.18 & 0 & 0\\\\\n\t4 & 1069434 & 2018-11-22 & 231 & 1625.01 & 2368.65 & 0 & 0\\\\\n\t5 & 1427566 & 2018-11-22 & 270 &  320.07 &  503.25 & 0 & 0\\\\\n\t6 & 1114924 & 2018-11-22 & 301 & 1458.19 & 2435.04 & 0 & 0\\\\\n\\end{tabular}\n",
            "text/markdown": "\nA data.frame: 6 × 7\n\n| <!--/--> | ID_CONTA &lt;int&gt; | DT_ACORDO &lt;date&gt; | NU_DIAS_ATRASO &lt;int&gt; | VALOR_CRELIQ &lt;dbl&gt; | DIVIDA_ATUAL &lt;dbl&gt; | RESPOSTA &lt;int&gt; | QTD_PARCELAMENTO_3M &lt;dbl&gt; |\n|---|---|---|---|---|---|---|---|\n| 1 | 1194908 | 2018-11-22 | 221 |  324.38 |  463.73 | 0 | 0 |\n| 2 | 1447997 | 2018-11-22 | 191 |  334.82 |  451.56 | 1 | 0 |\n| 3 | 1035415 | 2018-11-22 | 252 | 1682.26 | 2554.18 | 0 | 0 |\n| 4 | 1069434 | 2018-11-22 | 231 | 1625.01 | 2368.65 | 0 | 0 |\n| 5 | 1427566 | 2018-11-22 | 270 |  320.07 |  503.25 | 0 | 0 |\n| 6 | 1114924 | 2018-11-22 | 301 | 1458.19 | 2435.04 | 0 | 0 |\n\n",
            "text/html": [
              "<table class=\"dataframe\">\n",
              "<caption>A data.frame: 6 × 7</caption>\n",
              "<thead>\n",
              "\t<tr><th></th><th scope=col>ID_CONTA</th><th scope=col>DT_ACORDO</th><th scope=col>NU_DIAS_ATRASO</th><th scope=col>VALOR_CRELIQ</th><th scope=col>DIVIDA_ATUAL</th><th scope=col>RESPOSTA</th><th scope=col>QTD_PARCELAMENTO_3M</th></tr>\n",
              "\t<tr><th></th><th scope=col>&lt;int&gt;</th><th scope=col>&lt;date&gt;</th><th scope=col>&lt;int&gt;</th><th scope=col>&lt;dbl&gt;</th><th scope=col>&lt;dbl&gt;</th><th scope=col>&lt;int&gt;</th><th scope=col>&lt;dbl&gt;</th></tr>\n",
              "</thead>\n",
              "<tbody>\n",
              "\t<tr><th scope=row>1</th><td>1194908</td><td>2018-11-22</td><td>221</td><td> 324.38</td><td> 463.73</td><td>0</td><td>0</td></tr>\n",
              "\t<tr><th scope=row>2</th><td>1447997</td><td>2018-11-22</td><td>191</td><td> 334.82</td><td> 451.56</td><td>1</td><td>0</td></tr>\n",
              "\t<tr><th scope=row>3</th><td>1035415</td><td>2018-11-22</td><td>252</td><td>1682.26</td><td>2554.18</td><td>0</td><td>0</td></tr>\n",
              "\t<tr><th scope=row>4</th><td>1069434</td><td>2018-11-22</td><td>231</td><td>1625.01</td><td>2368.65</td><td>0</td><td>0</td></tr>\n",
              "\t<tr><th scope=row>5</th><td>1427566</td><td>2018-11-22</td><td>270</td><td> 320.07</td><td> 503.25</td><td>0</td><td>0</td></tr>\n",
              "\t<tr><th scope=row>6</th><td>1114924</td><td>2018-11-22</td><td>301</td><td>1458.19</td><td>2435.04</td><td>0</td><td>0</td></tr>\n",
              "</tbody>\n",
              "</table>\n"
            ]
          },
          "metadata": {
            "tags": []
          }
        }
      ]
    },
    {
      "cell_type": "code",
      "metadata": {
        "colab": {
          "base_uri": "https://localhost:8080/",
          "height": 33
        },
        "id": "6GaOGEUgpaqG",
        "outputId": "2e1d5e37-df67-43e1-b893-fd10124d9937"
      },
      "source": [
        "# Verificar se foram todos substituídos \n",
        "sum(is.na(base_geral)) "
      ],
      "execution_count": 36,
      "outputs": [
        {
          "output_type": "display_data",
          "data": {
            "text/plain": [
              "[1] 0"
            ],
            "text/latex": "0",
            "text/markdown": "0",
            "text/html": [
              "0"
            ]
          },
          "metadata": {
            "tags": []
          }
        }
      ]
    },
    {
      "cell_type": "markdown",
      "metadata": {
        "id": "9kwe7YtvrGaR"
      },
      "source": [
        "##### Vamos preparar nossa base para treino e teste (vamos particionar 70% para treino e 30% pare teste) "
      ]
    },
    {
      "cell_type": "code",
      "metadata": {
        "id": "QweymEeArLTD"
      },
      "source": [
        "set.seed(300122)\n",
        "particao <- createDataPartition(base_geral$RESPOSTA, p = 0.7, list = FALSE)\n",
        "treino <- base_geral[particao,]  # gera os índices dos clientes tal que sejam 70% de todas as observações \n",
        "teste  <- base_geral[-particao,] # Pega os índices restantes para teste "
      ],
      "execution_count": 37,
      "outputs": []
    },
    {
      "cell_type": "code",
      "metadata": {
        "id": "-Egwu7QHrXiz"
      },
      "source": [
        "# Vamos separar o conjunto de dados de treino em variável resposta e preditora \n",
        "resp_treino <- treino[,6]\n",
        "pred_treino <- treino[,-c(1,6)]"
      ],
      "execution_count": 38,
      "outputs": []
    },
    {
      "cell_type": "code",
      "metadata": {
        "id": "L0NgJgbntZ4a"
      },
      "source": [
        "# Identificando variáveis com variância baixa \n",
        "v_baixas <- nearZeroVar(pred_treino)"
      ],
      "execution_count": 39,
      "outputs": []
    },
    {
      "cell_type": "code",
      "metadata": {
        "id": "1_BUrlLLuqr2"
      },
      "source": [
        "# Selecionando da base de treino somente as variáveis que são importantes, a fim de otimizar o desempenho do modelo\n",
        "pred_treino <- pred_treino[,-v_baixas]\n",
        "treino <- cbind(resp_treino,pred_treino)"
      ],
      "execution_count": 40,
      "outputs": []
    },
    {
      "cell_type": "code",
      "metadata": {
        "id": "uH1nYKtCvnww"
      },
      "source": [
        "# Selecionando as variáveis para o conjunto de teste \n",
        "resp_teste <- teste[,6]\n",
        "pred_teste <- teste[,-c(6,1)]"
      ],
      "execution_count": 41,
      "outputs": []
    },
    {
      "cell_type": "code",
      "metadata": {
        "id": "LB-RpB9LwWS6"
      },
      "source": [
        "# Retirando as variáveis de baixa variabilidade no conjunto de teste \n",
        "pred_teste <- pred_teste[,-v_baixas]\n",
        "teste <- cbind(resp_teste,pred_teste)"
      ],
      "execution_count": 42,
      "outputs": []
    },
    {
      "cell_type": "markdown",
      "metadata": {
        "id": "Yh1MjrwDwx0-"
      },
      "source": [
        "#### **Modelagem dos dados**\n",
        "\n",
        "Vamos ajustar primeiramente o modelo logístico para ver como se comporta na presença dos dados desbalenceados: "
      ]
    },
    {
      "cell_type": "code",
      "metadata": {
        "id": "4O74ZYsSxITo"
      },
      "source": [
        "modelo <- glm(treino$resp_treino~., data  = treino, family = binomial(link = 'logit')) "
      ],
      "execution_count": 43,
      "outputs": []
    },
    {
      "cell_type": "code",
      "metadata": {
        "id": "DAdbCfSw_v1_"
      },
      "source": [
        "predito   <- predict(modelo, newdata = pred_teste, type = \"response\") # predizendo as probabilidades de adesão \n",
        "predito   <- as.factor(ifelse(predito > 0.5,1,0))"
      ],
      "execution_count": 44,
      "outputs": []
    },
    {
      "cell_type": "markdown",
      "metadata": {
        "id": "ZqrEWipk48jB"
      },
      "source": [
        "#### **Validação do modelo**"
      ]
    },
    {
      "cell_type": "code",
      "metadata": {
        "colab": {
          "base_uri": "https://localhost:8080/",
          "height": 532
        },
        "id": "VV4wQbk22BW8",
        "outputId": "3f672b0a-6439-491b-f174-9a7ca3ebb777"
      },
      "source": [
        "confusionMatrix(predito, as_factor(resp_teste), positive = \"1\")"
      ],
      "execution_count": 45,
      "outputs": [
        {
          "output_type": "stream",
          "text": [
            "Warning message in confusionMatrix.default(predito, as_factor(resp_teste), positive = \"1\"):\n",
            "“Levels are not in the same order for reference and data. Refactoring data to match.”\n"
          ],
          "name": "stderr"
        },
        {
          "output_type": "display_data",
          "data": {
            "text/plain": [
              "Confusion Matrix and Statistics\n",
              "\n",
              "          Reference\n",
              "Prediction     0     1\n",
              "         0 21111   648\n",
              "         1     0     0\n",
              "                                          \n",
              "               Accuracy : 0.9702          \n",
              "                 95% CI : (0.9679, 0.9724)\n",
              "    No Information Rate : 0.9702          \n",
              "    P-Value [Acc > NIR] : 0.5104          \n",
              "                                          \n",
              "                  Kappa : 0               \n",
              "                                          \n",
              " Mcnemar's Test P-Value : <2e-16          \n",
              "                                          \n",
              "            Sensitivity : 0.00000         \n",
              "            Specificity : 1.00000         \n",
              "         Pos Pred Value :     NaN         \n",
              "         Neg Pred Value : 0.97022         \n",
              "             Prevalence : 0.02978         \n",
              "         Detection Rate : 0.00000         \n",
              "   Detection Prevalence : 0.00000         \n",
              "      Balanced Accuracy : 0.50000         \n",
              "                                          \n",
              "       'Positive' Class : 1               \n",
              "                                          "
            ]
          },
          "metadata": {
            "tags": []
          }
        }
      ]
    },
    {
      "cell_type": "markdown",
      "metadata": {
        "id": "LygncJ0qCW2W"
      },
      "source": [
        "Podemos observar que a acurácia do modelo é alta (97,02%). A acurácia é a proporção de instâncias que foram corretamente previstas, sejam elas verdadeiras positivas ou verdadeiras negativas. No entanto a sensibilidade do modelo (a proporção de instâncias positivas que foram identificadas corretamente) é zero. Assim o modelo prevê apenas a classe que não fez acordo. Deve-se então buscar formas de balanceamento para melhorar a previsão de adesão. Pode-se destacar alguns métodos bastante conhecidos na literatura:\n",
        "\n",
        "* **under** \n",
        "* **over**\n",
        "* **both**"
      ]
    },
    {
      "cell_type": "code",
      "metadata": {
        "id": "sja4-A1PFyBn"
      },
      "source": [
        "# Analisando o desbalanceamento \n",
        "\n",
        "under_treino <- ovun.sample(resp_treino ~., data = treino, method = \"under\")$data \n",
        "\n",
        "over_treino  <- ovun.sample(resp_treino ~., data = treino, method = \"over\")$data\n",
        "\n",
        "both_treino  <- ovun.sample(resp_treino ~., data = treino, method = \"both\",p = 0.5)$data"
      ],
      "execution_count": 46,
      "outputs": []
    },
    {
      "cell_type": "code",
      "metadata": {
        "id": "Bm4GFU-eGNnm"
      },
      "source": [
        "# Método: regressão logística \n",
        "\n",
        "set.seed(300123)\n",
        "mod_under <- glm(resp_treino~.,data=under_treino,family=binomial(link='logit'))\n",
        "predito_under <- predict(mod_under,newdata=pred_teste,type=\"response\")\n",
        "predito_under <- as.factor(ifelse(predito_under > 0.5,1,0))\n",
        "\n",
        "mod_over=glm(resp_treino~.,data=over_treino,family=binomial(link='logit'))\n",
        "predito_over <- predict(mod_over,newdata=pred_teste,type=\"response\")\n",
        "predito_over <- as.factor(ifelse(predito_over > 0.5,1,0))\n",
        "\n",
        "mod_both=glm(resp_treino~.,data=both_treino,family=binomial(link='logit'))\n",
        "predito_both <- predict(mod_both,newdata=pred_teste,type=\"response\")\n",
        "predito_both <- as.factor(ifelse(predito_both > 0.5,1,0))\n",
        "\n",
        "# Método: Árvores de Decisão \n",
        "contr=rpart.control(maxdepth = 10)\n",
        "\n",
        "mod_under_tree <- rpart(resp_treino ~ ., data = under_treino,method = \"class\",\n",
        "control = contr,parms = list(split = 'gini'))\n",
        "predito_under_tree <- predict(mod_under_tree,newdata = pred_teste)\n",
        "predito_under_tree <- as.factor(ifelse(predito_under_tree[,2] > 0.5,1,0))\n",
        "\n",
        "mod_over_tree=rpart(resp_treino ~ ., data = over_treino,method = \"class\",\n",
        "control = contr, parms = list(split = 'gini'))\n",
        "predito_over_tree <- predict(mod_over_tree,newdata = pred_teste)\n",
        "predito_over_tree <- as.factor(ifelse(predito_over_tree[,2] > 0.5,1,0))\n",
        "\n",
        "mod_both_tree=rpart(resp_treino ~ ., data = both_treino,method = \"class\",\n",
        "control = contr,parms = list(split = 'gini'))\n",
        "predito_both_tree <- predict(mod_both_tree,newdata = pred_teste)\n",
        "predito_both_tree <- as.factor(ifelse(predito_both_tree[,2] > 0.5,1,0))\n",
        "\n",
        "# Método: Florestas Aleatórias \n",
        "\n",
        "mod_under_fa <- randomForest(as.factor(resp_treino)~., \n",
        "data = under_treino,maxnodes=10,importance=TRUE,ntree=1000,mtry=10)\n",
        "predito_under_fa <- predict(mod_under_fa,newdata=pred_teste,type=\"response\")\n",
        "\n",
        "mod_over_fa <- randomForest(as.factor(resp_treino)~.,\n",
        "data = over_treino,maxnodes=10,importance=TRUE,ntree=1000,mtry=10)\n",
        "predito_over_fa <- predict(mod_over_fa,newdata=pred_teste,type=\"response\")\n",
        "\n",
        "mod_both_fa <- randomForest(as.factor(resp_treino)~.,\n",
        "data = both_treino,maxnodes=10,importance=TRUE,ntree=1000,mtry=10)\n",
        "predito_both_fa <- predict(mod_both_fa,newdata=pred_teste,type=\"response\")\n"
      ],
      "execution_count": null,
      "outputs": []
    },
    {
      "cell_type": "code",
      "metadata": {
        "id": "rkFKtFXcRLh3"
      },
      "source": [
        "# Validação dos modelos \n",
        "val_under <- confusionMatrix(predito_under,as.factor(resp_teste),positive = \"1\")\n",
        "val_over  <- confusionMatrix(predito_over, as.factor(resp_teste),positive = \"1\")\n",
        "val_both  <- confusionMatrix(predito_both, as.factor(resp_teste),positive = \"1\")\n",
        "\n",
        "\n",
        "val_under_tree <- confusionMatrix(predito_under_tree,\n",
        "as.factor(resp_teste),positive = \"1\")\n",
        "val_over_tree  <- confusionMatrix(predito_over_tree,\n",
        "as.factor(resp_teste),positive = \"1\")\n",
        "val_both_tree  <- confusionMatrix(predito_both_tree,\n",
        "as.factor(resp_teste),positive = \"1\")\n",
        "\n",
        "\n",
        "val_under_fa <- confusionMatrix(predito_under_fa,as.factor(resp_teste),positive = \"1\")\n",
        "val_over_fa  <- confusionMatrix(predito_over_fa, as.factor(resp_teste),positive = \"1\")\n",
        "val_both_fa  <- confusionMatrix(predito_both_fa, as.factor(resp_teste),positive = \"1\")\n",
        "\n",
        "val <- cbind(val_under$byClass[c(1,5)],val_over$byClass[c(1,5)],\n",
        "val_both$byClass[c(1,5)],\n",
        "val_under_tree$byClass[c(1,5)],val_over_tree$byClass[c(1,5)],\n",
        "val_both_tree$byClass[c(1,5)],val_under_fa$byClass[c(1,5)],\n",
        "val_over_fa$byClass[c(1,5)],val_both_fa$byClass[c(1,5)])\n",
        "\n",
        "# Obtendo a acurácia dos modelos com os métodos de balanceamento\n",
        "val_acur <- cbind(val_under$overall[1],val_over$overall[1],\n",
        "val_both$overall[1],val_under_tree$overall[1],val_over_tree$overall[1],\n",
        "val_both_tree$overall[1],val_under_fa$overall[1],val_over_fa$overall[1],\n",
        "val_both_fa$overall[1])"
      ],
      "execution_count": 48,
      "outputs": []
    },
    {
      "cell_type": "code",
      "metadata": {
        "colab": {
          "base_uri": "https://localhost:8080/",
          "height": 171
        },
        "id": "LPrwiMvoRjbl",
        "outputId": "af08830a-ca46-4abc-f9ed-63f609a8be86"
      },
      "source": [
        "names <- c(\"Logística Under\",\"Logística Over\",\"Logística Both\",\n",
        "\"Árvore de dec. Under\",\n",
        "\"Árvore de dec. Over\",\"Árvore de dec. Both\",\n",
        "\"Floresta Aleatória Under\",\"Floresta Aleatória Over\",\"Floresta Aleatória Both\")\n",
        "colnames(val)=names\n",
        "colnames(val_acur)=names\n",
        "rbind(val_acur,val)\n"
      ],
      "execution_count": 49,
      "outputs": [
        {
          "output_type": "display_data",
          "data": {
            "text/plain": [
              "            Logística Under Logística Over Logística Both Árvore de dec. Under\n",
              "Accuracy    0.52001471      0.49910382     0.5046647      0.64286043          \n",
              "Sensitivity 0.62345679      0.66049383     0.6543210      0.56635802          \n",
              "Precision   0.03809883      0.03853426     0.0386227      0.04670994          \n",
              "            Árvore de dec. Over Árvore de dec. Both Floresta Aleatória Under\n",
              "Accuracy    0.57934648          0.67645572          0.6447447               \n",
              "Sensitivity 0.63271605          0.54012346          0.5694444               \n",
              "Precision   0.04396783          0.04935138          0.0471867               \n",
              "            Floresta Aleatória Over Floresta Aleatória Both\n",
              "Accuracy    0.67411186              0.67636380             \n",
              "Sensitivity 0.54783951              0.54320988             \n",
              "Precision   0.04962953              0.04959143             "
            ],
            "text/latex": "A matrix: 3 × 9 of type dbl\n\\begin{tabular}{r|lllllllll}\n  & Logística Under & Logística Over & Logística Both & Árvore de dec. Under & Árvore de dec. Over & Árvore de dec. Both & Floresta Aleatória Under & Floresta Aleatória Over & Floresta Aleatória Both\\\\\n\\hline\n\tAccuracy & 0.52001471 & 0.49910382 & 0.5046647 & 0.64286043 & 0.57934648 & 0.67645572 & 0.6447447 & 0.67411186 & 0.67636380\\\\\n\tSensitivity & 0.62345679 & 0.66049383 & 0.6543210 & 0.56635802 & 0.63271605 & 0.54012346 & 0.5694444 & 0.54783951 & 0.54320988\\\\\n\tPrecision & 0.03809883 & 0.03853426 & 0.0386227 & 0.04670994 & 0.04396783 & 0.04935138 & 0.0471867 & 0.04962953 & 0.04959143\\\\\n\\end{tabular}\n",
            "text/markdown": "\nA matrix: 3 × 9 of type dbl\n\n| <!--/--> | Logística Under | Logística Over | Logística Both | Árvore de dec. Under | Árvore de dec. Over | Árvore de dec. Both | Floresta Aleatória Under | Floresta Aleatória Over | Floresta Aleatória Both |\n|---|---|---|---|---|---|---|---|---|---|\n| Accuracy | 0.52001471 | 0.49910382 | 0.5046647 | 0.64286043 | 0.57934648 | 0.67645572 | 0.6447447 | 0.67411186 | 0.67636380 |\n| Sensitivity | 0.62345679 | 0.66049383 | 0.6543210 | 0.56635802 | 0.63271605 | 0.54012346 | 0.5694444 | 0.54783951 | 0.54320988 |\n| Precision | 0.03809883 | 0.03853426 | 0.0386227 | 0.04670994 | 0.04396783 | 0.04935138 | 0.0471867 | 0.04962953 | 0.04959143 |\n\n",
            "text/html": [
              "<table class=\"dataframe\">\n",
              "<caption>A matrix: 3 × 9 of type dbl</caption>\n",
              "<thead>\n",
              "\t<tr><th></th><th scope=col>Logística Under</th><th scope=col>Logística Over</th><th scope=col>Logística Both</th><th scope=col>Árvore de dec. Under</th><th scope=col>Árvore de dec. Over</th><th scope=col>Árvore de dec. Both</th><th scope=col>Floresta Aleatória Under</th><th scope=col>Floresta Aleatória Over</th><th scope=col>Floresta Aleatória Both</th></tr>\n",
              "</thead>\n",
              "<tbody>\n",
              "\t<tr><th scope=row>Accuracy</th><td>0.52001471</td><td>0.49910382</td><td>0.5046647</td><td>0.64286043</td><td>0.57934648</td><td>0.67645572</td><td>0.6447447</td><td>0.67411186</td><td>0.67636380</td></tr>\n",
              "\t<tr><th scope=row>Sensitivity</th><td>0.62345679</td><td>0.66049383</td><td>0.6543210</td><td>0.56635802</td><td>0.63271605</td><td>0.54012346</td><td>0.5694444</td><td>0.54783951</td><td>0.54320988</td></tr>\n",
              "\t<tr><th scope=row>Precision</th><td>0.03809883</td><td>0.03853426</td><td>0.0386227</td><td>0.04670994</td><td>0.04396783</td><td>0.04935138</td><td>0.0471867</td><td>0.04962953</td><td>0.04959143</td></tr>\n",
              "</tbody>\n",
              "</table>\n"
            ]
          },
          "metadata": {
            "tags": []
          }
        }
      ]
    },
    {
      "cell_type": "markdown",
      "metadata": {
        "id": "NS8dAtG5TAwu"
      },
      "source": [
        "Percebemos que o modelo que possui maior acurácia é o modelo Random Forest, possuindo valores de acurácia superiores ao do modelo Logístico e de Árvore de decisão, com valores razoáveis de sensibilidade. Dentre os modelos de Floresta Aleatória, o que utiliza o método de balanceamento *both* possui uma maior acurácia e sensibilidade com relação aos outros. "
      ]
    }
  ]
}